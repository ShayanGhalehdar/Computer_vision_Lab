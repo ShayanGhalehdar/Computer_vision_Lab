{
 "cells": [
  {
   "cell_type": "markdown",
   "metadata": {},
   "source": [
    "Alireza Safarkhani 97101983\n",
    "Shayan Ghaledar 97102271"
   ]
  },
  {
   "cell_type": "markdown",
   "metadata": {},
   "source": [
    "در بلوک زیر ابتدا دیتا را خوانده و پس از شافل کردن به نسبت 80 به 20 بین آموزش و تست تقسیم کرده ایم. 3 ستون ویژگی داریم و یک ستون خروجی که میزان ازون هوا می باشد."
   ]
  },
  {
   "cell_type": "code",
   "execution_count": 1,
   "metadata": {},
   "outputs": [],
   "source": [
    "import numpy as np\n",
    "import matplotlib.pyplot as plt\n",
    "import pandas as pd\n",
    "import os\n",
    "from numpy.linalg import inv\n",
    "from random import shuffle\n",
    "\n",
    "os.chdir('C:/Users/MT/Downloads/MLV_LAB_2')\n",
    "\n",
    "# Reading and splitting the data \n",
    "\n",
    "Ozon = pd.read_csv('ozon.csv')\n",
    "Ozon = Ozon.to_numpy()\n",
    "shuffle(Ozon)\n",
    "train_data = Ozon[0:int(0.8*len(Ozon))]\n",
    "test_data = Ozon[int(0.8*len(Ozon)): len(Ozon)+1]\n",
    "\n",
    "\n",
    "X_train = train_data[:,0:3]\n",
    "Y_train = train_data[:,3]\n",
    "X_test = test_data[:,0:3]\n",
    "Y_test = test_data[:,3]"
   ]
  },
  {
   "cell_type": "markdown",
   "metadata": {},
   "source": [
    "در بلوک زیر ابتدا ستون 0 را طبق دستور کار به داده های آموزش اضافه می کنیم و سپس بتا را طبق دستور کار بدست می آوریم. در نهایت تخمین خروجی از ضرب ایکس و بتا حاصل شده است. دقت شود برای تخمین خروجی در داده های تست هم از همان بتایی که از داده های آموزش بدست امده استفاده می کنیم.در نهایت هم بتا پرینت شده است. "
   ]
  },
  {
   "cell_type": "code",
   "execution_count": 2,
   "metadata": {},
   "outputs": [
    {
     "name": "stdout",
     "output_type": "stream",
     "text": [
      "[-4.68008803e+01  4.08976211e-02  1.42967515e+00 -3.17126947e+00]\n"
     ]
    }
   ],
   "source": [
    "# Calculating beta and y_hat\n",
    "\n",
    "X = np.insert(X_train, 0, np.ones(len(X_train)), axis=1)\n",
    "beta = np.matmul(np.matmul(inv(np.matmul(X.T,X)),X.T) , Y_train)\n",
    "\n",
    "y_hat_train = np.matmul(X,beta)\n",
    "\n",
    "\n",
    "X_Test = np.insert(X_test, 0, np.ones(len(X_test)), axis=1)\n",
    "y_hat_test = np.matmul(X_Test,beta)\n",
    "\n",
    "print(beta)"
   ]
  },
  {
   "cell_type": "markdown",
   "metadata": {},
   "source": [
    "در بلوک زیر خطا را طبق تعریف دستور کار پیاده سازی کرده ایم و ملاحظه می کنید که خطای آموزش و تست پرینت شده است که طبیعتا خطای داده های آموزش کمتر می باشد."
   ]
  },
  {
   "cell_type": "code",
   "execution_count": 3,
   "metadata": {},
   "outputs": [
    {
     "name": "stdout",
     "output_type": "stream",
     "text": [
      "367.67102406819237\n",
      "440.36990775903627\n"
     ]
    }
   ],
   "source": [
    "# Calculating RSS\n",
    "RSS_train = np.matmul((Y_train - y_hat_train).T , (Y_train - y_hat_train))\n",
    "RSS_train = RSS_train/len(Y_train)\n",
    "print(RSS_train)\n",
    "\n",
    "RSS_test = np.matmul((Y_test - y_hat_test).T , (Y_test - y_hat_test))\n",
    "RSS_test = RSS_test/len(Y_test)\n",
    "print(RSS_test)\n",
    "\n"
   ]
  },
  {
   "cell_type": "markdown",
   "metadata": {},
   "source": [
    "در ادامه بایستی با واریانس های مختلف نویز گوسی به خروجی اضافه کنیم و بقیه کار مانند بلوک های قبلی هست و مجددا بتا و تخمین خروجی ها و در نهایت خطاها حساب شده است که مشاهده می شود خطا ها بیشتر می شوند و کماکان خطای آموزش از تست کمتر است."
   ]
  },
  {
   "cell_type": "code",
   "execution_count": 4,
   "metadata": {},
   "outputs": [
    {
     "name": "stdout",
     "output_type": "stream",
     "text": [
      "[-5.29303691e+01  2.11212722e-02  1.51037840e+00 -2.84832346e+00]\n",
      "462.3465500607768\n",
      "503.1460532825307\n"
     ]
    }
   ],
   "source": [
    "# Noisy data\n",
    "# Noise variance = 10\n",
    "Noise = np.random.normal(0,10,len(Ozon))\n",
    "train_noise = Noise[0:int(0.8*len(Ozon))]\n",
    "test_noise = Noise[int(0.8*len(Ozon)): len(Ozon)+1]\n",
    "\n",
    "Y_train_noisy = Y_train + train_noise\n",
    "Y_test_noisy = Y_test + test_noise\n",
    "\n",
    "beta_noisy = np.matmul(np.matmul(inv(np.matmul(X.T,X)),X.T) , Y_train_noisy)\n",
    "print(beta_noisy)\n",
    "\n",
    "y_hat_train_noisy = np.matmul(X,beta_noisy)\n",
    "y_hat_test_noisy = np.matmul(X_Test,beta_noisy)\n",
    "\n",
    "# RSS \n",
    "RSS_train_noisy = np.matmul((Y_train_noisy - y_hat_train_noisy).T , (Y_train_noisy - y_hat_train_noisy))\n",
    "RSS_train_noisy = RSS_train_noisy/len(Y_train_noisy)\n",
    "print(RSS_train_noisy)\n",
    "\n",
    "RSS_test_noisy = np.matmul((Y_test_noisy - y_hat_test_noisy).T , (Y_test_noisy - y_hat_test_noisy))\n",
    "RSS_test_noisy = RSS_test_noisy/len(Y_test_noisy)\n",
    "print(RSS_test_noisy)"
   ]
  },
  {
   "cell_type": "markdown",
   "metadata": {},
   "source": [
    "در بلوک قبل با واریانس 10 نویز را اضافه کردیم. در چند بلوک بعدی با واریانس های 20 و 30 و 40 و 50 این کار را کرده ایم و بقیه کد مشابه هست. مشاهده شد که هرچقدر واریانس نویز زیاد تر می شود خطای آموزش و تست هم افزایش پیدا می کند."
   ]
  },
  {
   "cell_type": "code",
   "execution_count": 5,
   "metadata": {},
   "outputs": [
    {
     "name": "stdout",
     "output_type": "stream",
     "text": [
      "[-27.94378634   0.03949342   1.08635846  -2.56250201]\n",
      "713.829340105618\n",
      "1184.1908962481386\n"
     ]
    }
   ],
   "source": [
    "# Noise variance = 20\n",
    "Noise = np.random.normal(0,20,len(Ozon))\n",
    "train_noise = Noise[0:int(0.8*len(Ozon))]\n",
    "test_noise = Noise[int(0.8*len(Ozon)): len(Ozon)+1]\n",
    "\n",
    "Y_train_noisy = Y_train + train_noise\n",
    "Y_test_noisy = Y_test + test_noise\n",
    "\n",
    "beta_noisy = np.matmul(np.matmul(inv(np.matmul(X.T,X)),X.T) , Y_train_noisy)\n",
    "print(beta_noisy)\n",
    "\n",
    "y_hat_train_noisy = np.matmul(X,beta_noisy)\n",
    "y_hat_test_noisy = np.matmul(X_Test,beta_noisy)\n",
    "\n",
    "# RSS \n",
    "RSS_train_noisy = np.matmul((Y_train_noisy - y_hat_train_noisy).T , (Y_train_noisy - y_hat_train_noisy))\n",
    "RSS_train_noisy = RSS_train_noisy/len(Y_train_noisy)\n",
    "print(RSS_train_noisy)\n",
    "\n",
    "RSS_test_noisy = np.matmul((Y_test_noisy - y_hat_test_noisy).T , (Y_test_noisy - y_hat_test_noisy))\n",
    "RSS_test_noisy = RSS_test_noisy/len(Y_test_noisy)\n",
    "print(RSS_test_noisy)"
   ]
  },
  {
   "cell_type": "code",
   "execution_count": 7,
   "metadata": {},
   "outputs": [
    {
     "name": "stdout",
     "output_type": "stream",
     "text": [
      "[-2.19794947e+01  7.48117570e-03  1.28615187e+00 -3.83610911e+00]\n",
      "1264.8855217575594\n",
      "1427.9259222369374\n"
     ]
    }
   ],
   "source": [
    "# Noise variance = 30\n",
    "Noise = np.random.normal(0,30,len(Ozon))\n",
    "train_noise = Noise[0:int(0.8*len(Ozon))]\n",
    "test_noise = Noise[int(0.8*len(Ozon)): len(Ozon)+1]\n",
    "\n",
    "Y_train_noisy = Y_train + train_noise\n",
    "Y_test_noisy = Y_test + test_noise\n",
    "\n",
    "beta_noisy = np.matmul(np.matmul(inv(np.matmul(X.T,X)),X.T) , Y_train_noisy)\n",
    "print(beta_noisy)\n",
    "\n",
    "y_hat_train_noisy = np.matmul(X,beta_noisy)\n",
    "y_hat_test_noisy = np.matmul(X_Test,beta_noisy)\n",
    "\n",
    "# RSS \n",
    "RSS_train_noisy = np.matmul((Y_train_noisy - y_hat_train_noisy).T , (Y_train_noisy - y_hat_train_noisy))\n",
    "RSS_train_noisy = RSS_train_noisy/len(Y_train_noisy)\n",
    "print(RSS_train_noisy)\n",
    "\n",
    "RSS_test_noisy = np.matmul((Y_test_noisy - y_hat_test_noisy).T , (Y_test_noisy - y_hat_test_noisy))\n",
    "RSS_test_noisy = RSS_test_noisy/len(Y_test_noisy)\n",
    "print(RSS_test_noisy)"
   ]
  },
  {
   "cell_type": "code",
   "execution_count": 8,
   "metadata": {},
   "outputs": [
    {
     "name": "stdout",
     "output_type": "stream",
     "text": [
      "[-1.29997159e+02  9.86124037e-02  2.05891200e+00 -1.92441478e-01]\n",
      "2125.081527288663\n",
      "3031.47318833997\n"
     ]
    }
   ],
   "source": [
    "# Noise variance = 40\n",
    "Noise = np.random.normal(0,40,len(Ozon))\n",
    "train_noise = Noise[0:int(0.8*len(Ozon))]\n",
    "test_noise = Noise[int(0.8*len(Ozon)): len(Ozon)+1]\n",
    "\n",
    "Y_train_noisy = Y_train + train_noise\n",
    "Y_test_noisy = Y_test + test_noise\n",
    "\n",
    "beta_noisy = np.matmul(np.matmul(inv(np.matmul(X.T,X)),X.T) , Y_train_noisy)\n",
    "print(beta_noisy)\n",
    "\n",
    "y_hat_train_noisy = np.matmul(X,beta_noisy)\n",
    "y_hat_test_noisy = np.matmul(X_Test,beta_noisy)\n",
    "\n",
    "# RSS \n",
    "RSS_train_noisy = np.matmul((Y_train_noisy - y_hat_train_noisy).T , (Y_train_noisy - y_hat_train_noisy))\n",
    "RSS_train_noisy = RSS_train_noisy/len(Y_train_noisy)\n",
    "print(RSS_train_noisy)\n",
    "\n",
    "RSS_test_noisy = np.matmul((Y_test_noisy - y_hat_test_noisy).T , (Y_test_noisy - y_hat_test_noisy))\n",
    "RSS_test_noisy = RSS_test_noisy/len(Y_test_noisy)\n",
    "print(RSS_test_noisy)"
   ]
  },
  {
   "cell_type": "code",
   "execution_count": 10,
   "metadata": {},
   "outputs": [
    {
     "name": "stdout",
     "output_type": "stream",
     "text": [
      "[-4.59860802  0.06837449  0.83897655 -3.20961327]\n",
      "2557.836907617671\n",
      "3466.8731644498107\n"
     ]
    }
   ],
   "source": [
    "# Noise variance = 50\n",
    "Noise = np.random.normal(0,50,len(Ozon))\n",
    "train_noise = Noise[0:int(0.8*len(Ozon))]\n",
    "test_noise = Noise[int(0.8*len(Ozon)): len(Ozon)+1]\n",
    "\n",
    "Y_train_noisy = Y_train + train_noise\n",
    "Y_test_noisy = Y_test + test_noise\n",
    "\n",
    "beta_noisy = np.matmul(np.matmul(inv(np.matmul(X.T,X)),X.T) , Y_train_noisy)\n",
    "print(beta_noisy)\n",
    "\n",
    "y_hat_train_noisy = np.matmul(X,beta_noisy)\n",
    "y_hat_test_noisy = np.matmul(X_Test,beta_noisy)\n",
    "\n",
    "# RSS \n",
    "RSS_train_noisy = np.matmul((Y_train_noisy - y_hat_train_noisy).T , (Y_train_noisy - y_hat_train_noisy))\n",
    "RSS_train_noisy = RSS_train_noisy/len(Y_train_noisy)\n",
    "print(RSS_train_noisy)\n",
    "\n",
    "RSS_test_noisy = np.matmul((Y_test_noisy - y_hat_test_noisy).T , (Y_test_noisy - y_hat_test_noisy))\n",
    "RSS_test_noisy = RSS_test_noisy/len(Y_test_noisy)\n",
    "print(RSS_test_noisy)"
   ]
  },
  {
   "cell_type": "markdown",
   "metadata": {},
   "source": [
    "نکته دیگر در باره بلوک های بالا این است که خطای تست به طور شدید تری با افزایش واریانس نویز زیاد می شود."
   ]
  },
  {
   "cell_type": "markdown",
   "metadata": {},
   "source": [
    "در بلوک بعدی برای واریانس های مختلف نویز در بازه 0 تا 50 یک حلقه داریم که در نهایت بتوانیم به ازای واریانس های مختلف خطا را رسم و مشاهده کنیم که روند صعودی باز هم نسبتا خوب قابل ملاحظه می باشد."
   ]
  },
  {
   "cell_type": "markdown",
   "metadata": {},
   "source": [
    "همچنین ملاحظه می کنید که حساسیت تست به نویز بیشتر از آموزش است و نمودار نارنجی شدیدتر از آبی خطایش زیاد شده است."
   ]
  },
  {
   "cell_type": "code",
   "execution_count": 12,
   "metadata": {},
   "outputs": [
    {
     "data": {
      "text/plain": [
       "Text(0, 0.5, 'Error')"
      ]
     },
     "execution_count": 12,
     "metadata": {},
     "output_type": "execute_result"
    },
    {
     "data": {
      "image/png": "[encoded data removed]",
      "text/plain": [
       "<Figure size 432x288 with 1 Axes>"
      ]
     },
     "metadata": {
      "needs_background": "light"
     },
     "output_type": "display_data"
    }
   ],
   "source": [
    "# plotting the effect of noise variance on the error\n",
    "\n",
    "train_error = np.zeros(200,)\n",
    "test_error = np.zeros(200,)\n",
    "range_noise = np.linspace(0,50,200)\n",
    "k = 0\n",
    "\n",
    "for i in range_noise:\n",
    "    \n",
    "    Noise = np.random.normal(0,i,len(Ozon))\n",
    "    train_noise = Noise[0:int(0.8*len(Ozon))]\n",
    "    test_noise = Noise[int(0.8*len(Ozon)): len(Ozon)+1]\n",
    "    \n",
    "    Y_train_noisy = Y_train + train_noise\n",
    "    Y_test_noisy = Y_test + test_noise\n",
    "    \n",
    "    beta_noisy = np.matmul(np.matmul(inv(np.matmul(X.T,X)),X.T) , Y_train_noisy)\n",
    "    \n",
    "    tmp = Y_train - np.matmul(X,beta_noisy)\n",
    "    RSS_train_noisy = np.matmul(tmp.T ,tmp)\n",
    "    train_error[k] = RSS_train_noisy/len(Y_train)\n",
    "    \n",
    "    tmp = Y_test - np.matmul(X_Test,beta_noisy)\n",
    "    RSS_test_noisy = np.matmul(tmp.T ,tmp)\n",
    "    test_error[k] = RSS_test_noisy/len(Y_test)\n",
    "    \n",
    "    k = k+1\n",
    "    \n",
    "\n",
    "plt.plot(range_noise,train_error)\n",
    "plt.title('effect of noise variance on the error for train data')\n",
    "plt.xlabel('noise variance')\n",
    "plt.ylabel('Error')\n",
    "\n",
    "\n",
    "plt.plot(range_noise,test_error)\n",
    "plt.title('effect of noise variance on the error for train and test data')\n",
    "plt.xlabel('noise variance')\n",
    "plt.ylabel('Error')"
   ]
  },
  {
   "cell_type": "markdown",
   "metadata": {},
   "source": [
    "در بلوک بعدی ویژگی پیچیده تری که توان 2 ویژگی های قبل هست را اضافه می کنیم که باعث شده است مدل در تخمین خروجی بهتر عمل کند و خطا های آموزش و تست هردو کاهش یافته اند."
   ]
  },
  {
   "cell_type": "code",
   "execution_count": 71,
   "metadata": {},
   "outputs": [
    {
     "name": "stdout",
     "output_type": "stream",
     "text": [
      "[ 2.80398341e+02  1.31995917e-01 -6.59702712e+00 -1.00164921e+01\n",
      " -2.80324286e-04  5.26295938e-02  3.37151192e-01]\n",
      "189.81570946761178\n",
      "251.7171617365478\n"
     ]
    }
   ],
   "source": [
    "# Adding power 2 elements to X \n",
    "\n",
    "X = np.hstack((X_train,X_train**2))\n",
    "X = np.insert(X, 0, np.ones(len(X_train)), axis=1)\n",
    "new_beta = np.matmul(np.matmul(inv(np.matmul(X.T,X)),X.T) , Y_train)\n",
    "print(new_beta)\n",
    "\n",
    "X_Test = np.hstack((X_test,X_test**2))\n",
    "X_Test = np.insert(X_Test, 0, np.ones(len(X_test)), axis=1)\n",
    "\n",
    "\n",
    "y_hat_train_new = np.matmul(X,new_beta)\n",
    "y_hat_test_new = np.matmul(X_Test,new_beta)\n",
    "\n",
    "# RSS\n",
    "\n",
    "RSS_train_new = np.matmul((Y_train - y_hat_train_new).T , (Y_train - y_hat_train_new))\n",
    "RSS_train_new = RSS_train_new/len(Y_train)\n",
    "print(RSS_train_new)\n",
    "\n",
    "RSS_test_new = np.matmul((Y_test - y_hat_test_new).T , (Y_test - y_hat_test_new))\n",
    "RSS_test_new = RSS_test_new/len(Y_test)\n",
    "print(RSS_test_new)"
   ]
  },
  {
   "cell_type": "markdown",
   "metadata": {},
   "source": [
    "در قسمت بعدی در این بلوک ابتدا دیتای فریم های افراد را خوانده و برای هر شخص داده هایش را با گام خطی از 0 تا 1 لیبل هم میزنیم که از حالت خنثی تا اوج سورپرایز را نشان می دهد."
   ]
  }
 ],
 "metadata": {
  "kernelspec": {
   "display_name": "Python 3",
   "language": "python",
   "name": "python3"
  },
  "language_info": {
   "codemirror_mode": {
    "name": "ipython",
    "version": 3
   },
   "file_extension": ".py",
   "mimetype": "text/x-python",
   "name": "python",
   "nbconvert_exporter": "python",
   "pygments_lexer": "ipython3",
   "version": "3.8.3"
  }
 },
 "nbformat": 4,
 "nbformat_minor": 4
}
